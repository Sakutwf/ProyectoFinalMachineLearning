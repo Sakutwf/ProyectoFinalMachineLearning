{
  "nbformat": 4,
  "nbformat_minor": 0,
  "metadata": {
    "colab": {
      "name": "Proyecto Final - Machine Learning.ipynb",
      "provenance": [],
      "authorship_tag": "ABX9TyMY1C/FBKE5yEThpG9jvckB",
      "include_colab_link": true
    },
    "kernelspec": {
      "name": "python3",
      "display_name": "Python 3"
    },
    "language_info": {
      "name": "python"
    }
  },
  "cells": [
    {
      "cell_type": "markdown",
      "metadata": {
        "id": "view-in-github",
        "colab_type": "text"
      },
      "source": [
        "<a href=\"https://colab.research.google.com/github/Sakutwf/ProyectoFinalMachineLearning/blob/main/Proyecto_Final_Machine_Learning.ipynb\" target=\"_parent\"><img src=\"https://colab.research.google.com/assets/colab-badge.svg\" alt=\"Open In Colab\"/></a>"
      ]
    },
    {
      "cell_type": "markdown",
      "source": [
        "La contaminación atmosférica es una de las preocupaciones ambientales más importantes en muchos países del mundo, y se ve fuertemente afectada por las condiciones meteorológicas. En este proyecto se generarán pronósticos para la calidad del aire disponibles para la ciudad de Curicó."
      ],
      "metadata": {
        "id": "gJJFtuulSsm6"
      }
    },
    {
      "cell_type": "code",
      "source": [
        "#Importación de librerías\n",
        "\n",
        "import numpy as np\n",
        "import pandas as pd\n",
        "import missingno as msno\n",
        "import matplotlib.pyplot as plt\n",
        "import plotly.express as px\n",
        "import plotly.graph_objects as go\n",
        "from fbprophet import Prophet\n",
        "import holidays\n",
        "from sklearn.metrics import mean_squared_error, mean_absolute_error, mean_absolute_percentage_error\n",
        "from sklearn.preprocessing import MinMaxScaler\n",
        "from keras.preprocessing.sequence import TimeseriesGenerator\n",
        "from keras.models import Sequential\n",
        "from keras.layers import Dense, LSTM\n",
        "\n"
      ],
      "metadata": {
        "id": "ubw94bT7SsT3"
      },
      "execution_count": 2,
      "outputs": []
    },
    {
      "cell_type": "code",
      "source": [
        "#Extracción de la base de datos de calidad del aire de la estación meteorológica ubicada en Curicó.\n",
        "\n",
        "url = \"https://sinca.mma.gob.cl/cgi-bin/APUB-MMA/apub.tsindico2.cgi?outtype=xcl&macro=./RVII/709/Cal/PM25//PM25.horario.horario.ic&from=120707&to=211130&path=/usr/airviro/data/CONAMA/&lang=esp&rsrc=&macropath=\"\n",
        "csv = pd.read_csv(url, error_bad_lines=False, sep=\";\", na_values='?', na_filter=True, engine='python')"
      ],
      "metadata": {
        "id": "c5Gjqo02ZDJW"
      },
      "execution_count": 3,
      "outputs": []
    },
    {
      "cell_type": "markdown",
      "source": [
        "Se realizará un preprocesamiento se datos con el fin de permitir un trabajo más claro y fácil. Se detallan las acciones paso a paso:"
      ],
      "metadata": {
        "id": "JlLax1WO1Vu8"
      }
    },
    {
      "cell_type": "code",
      "source": [
        "#De ahora en adelante los datos se llamarán desde la variable df\n",
        "df = csv.copy()"
      ],
      "metadata": {
        "id": "DH7FddLY3zJC"
      },
      "execution_count": 4,
      "outputs": []
    },
    {
      "cell_type": "markdown",
      "source": [
        "La primera columna que se tratará es la de Fecha"
      ],
      "metadata": {
        "id": "6-C8vxVF314y"
      }
    },
    {
      "cell_type": "code",
      "source": [
        "#transformando a datos de tipo String\n",
        "df['FECHA (YYMMDD)'] = df['FECHA (YYMMDD)'].astype(str)\n",
        "\n",
        "#La fecha se separará en día, mes y año, para ello, en primer lugar, se extraerá la columna de interés\n",
        "auxDate = df['FECHA (YYMMDD)']\n",
        "\n",
        "#Se extraen los datos de día, mes y año para dar nuevo formato\n",
        "year = auxDate.str[:2]\n",
        "month = auxDate.str[2:4]\n",
        "day = auxDate.str[4:]\n",
        "\n",
        "#Se da nuevo formato\n",
        "df['FECHA (YYMMDD)'] = year+\"/\"+month+\"/\"+day"
      ],
      "metadata": {
        "id": "PpD4JqGZ1pBV"
      },
      "execution_count": 5,
      "outputs": []
    },
    {
      "cell_type": "markdown",
      "source": [
        "La siguiente columna a modificar es la de Hora"
      ],
      "metadata": {
        "id": "sql6yaeI4FGq"
      }
    },
    {
      "cell_type": "code",
      "source": [
        "#Así como en la columna anrerior, se transforma a tipo String y se extrae la columna\n",
        "df['HORA (HHMM)'] = df['HORA (HHMM)'].astype(str)\n",
        "auxHour = df['HORA (HHMM)']\n",
        "\n",
        "#Para transformar el formato de la columna de horas será necesario realizar verificaciones en cada celda para la tranformación\n",
        "#Para ello se creará una lista auxiliar que contendra los nuevos valores para luego asignarlos a la columna definitiva\n",
        "auxList = []\n",
        "\n",
        "#Verificación de formato\n",
        "for index, row in auxHour.iteritems():\n",
        "    lenght = len(row)\n",
        "    if(lenght == 1):\n",
        "        newRow = \"000\"+row\n",
        "    if(lenght == 3):\n",
        "        newRow = \"0\"+row\n",
        "    if(lenght == 4):\n",
        "        newRow = row\n",
        "    hour = newRow[:2]\n",
        "    minute = newRow[2:]\n",
        "    auxList.append(hour+\":\"+minute+\":00.000\")\n",
        "\n",
        "#Se le asigna a la columna de hora los valores de la lista con formato actualizado\n",
        "df['HORA (HHMM)'] = auxList"
      ],
      "metadata": {
        "id": "IjRu36fS4L4g"
      },
      "execution_count": 6,
      "outputs": []
    },
    {
      "cell_type": "markdown",
      "source": [
        "Para una mayor comodidad en la lectura de datos, las columnas que acaban de modificarse se unirán en una sola llamada Time, de esta manera se podrá utilizar el formato de python para este tipo de archivos, así.. fecha y hora quedará como una sola y nueva columna y las antiguas serán eliminadas."
      ],
      "metadata": {
        "id": "h8oG6MOZ8qRS"
      }
    },
    {
      "cell_type": "code",
      "source": [
        "df1 = df.copy()\n",
        "\n",
        "#Se unen en una nueva columna \"Fecha\" y \"Hora\"\n",
        "df1['Fecha'] = df1['FECHA (YYMMDD)'] + \" \" + df1['HORA (HHMM)']\n",
        "\n",
        "#Se lleva la nueva columna al inicio del dataframe\n",
        "cols = df1.columns.to_list()\n",
        "cols = cols[-1:] + cols[:-1]\n",
        "df1 = df1[cols]\n",
        "\n",
        "#Se eliminan columnas \"Fecha\" y \"Hora\"\n",
        "df1.drop(['FECHA (YYMMDD)','HORA (HHMM)'], axis=1, inplace=True)\n",
        "\n",
        "#Se lleva la nueva columna al formato datetime\n",
        "df1['Fecha'] = pd.to_datetime(df1['Fecha'], yearfirst=True)"
      ],
      "metadata": {
        "id": "iK2ql2FK7xPV"
      },
      "execution_count": 12,
      "outputs": []
    },
    {
      "cell_type": "markdown",
      "source": [
        "A continuación se aplicarán estrategias de imputación de dstos según se requiera, para ello en una primera instancia se revisará cuantos datos faltan y en que lugar a fin de utilizar el mejor criterio de imputación de acuerdo al dataframe."
      ],
      "metadata": {
        "id": "m5qFJC9lCD3K"
      }
    },
    {
      "cell_type": "code",
      "source": [
        "#Con la herramienta Missingno se conocerán todos aquellos datos tipo NaN\n",
        "msno.matrix(df1)\n",
        "plt.show()"
      ],
      "metadata": {
        "id": "CJIwTmvD-jju",
        "outputId": "794d69ed-245a-44e1-c1aa-83e1e89509b0",
        "colab": {
          "base_uri": "https://localhost:8080/",
          "height": 418
        }
      },
      "execution_count": 23,
      "outputs": [
        {
          "output_type": "display_data",
          "data": {
            "image/png": "[encoded data removed]",
            "text/plain": [
              "<Figure size 1800x720 with 2 Axes>"
            ]
          },
          "metadata": {
            "needs_background": "light"
          }
        }
      ]
    },
    {
      "cell_type": "markdown",
      "source": [
        "Como se puede observar, existen 2 columnas con ausencia casi total de datos, por lo que se rescatarán las columnas restantes para trabajar, para ello se ha decidido unir Registros validados y Registros preliminares en una sola columna de Registros:"
      ],
      "metadata": {
        "id": "UgYulceDC89a"
      }
    },
    {
      "cell_type": "code",
      "source": [
        "!pip install plotly==5.4.0\n",
        "df2 = df1.copy()\n",
        "df1 = pd.DataFrame(df2[['Fecha']])\n",
        "df1['Registros validados'] = df2['Registros validados']\n",
        "df1['Registros preliminares'] = df2['Registros preliminares']\n",
        "df1['Registro'] = df2['Registros validados'].astype(str) + df2['Registros preliminares'].astype(str)\n",
        "\n",
        "#Como ya se han juntado las columnas de registros validados y preliminares, se elimina el resto\n",
        "\n",
        "df2.drop(['Registros validados','Registros preliminares'], axis=1, inplace=True)\n",
        "\n",
        "#Como se observó en el punto anterior, existen filas que no poseen datos, por lo que la ausencia de ellos\n",
        "#Se representará con un NaN, junto con ello, los datos se transformarán a tipo float\n",
        "\n",
        "column = []\n",
        "for index, item in column.iteritems():\n",
        "    column.append(item.replace(\"NaN\",\"\"))\n",
        "    \n",
        "df2['Registro'] = column"
      ],
      "metadata": {
        "id": "sB_WN-RICyf2",
        "outputId": "cefaa58e-9987-46a8-9de1-585a019a3914",
        "colab": {
          "base_uri": "https://localhost:8080/",
          "height": 529
        }
      },
      "execution_count": 30,
      "outputs": [
        {
          "output_type": "stream",
          "name": "stdout",
          "text": [
            "Collecting plotly==5.4.0\n",
            "  Downloading plotly-5.4.0-py2.py3-none-any.whl (25.3 MB)\n",
            "\u001b[K     |████████████████████████████████| 25.3 MB 12.4 MB/s \n",
            "\u001b[?25hCollecting tenacity>=6.2.0\n",
            "  Downloading tenacity-8.0.1-py3-none-any.whl (24 kB)\n",
            "Requirement already satisfied: six in /usr/local/lib/python3.7/dist-packages (from plotly==5.4.0) (1.15.0)\n",
            "Installing collected packages: tenacity, plotly\n",
            "  Attempting uninstall: plotly\n",
            "    Found existing installation: plotly 4.4.1\n",
            "    Uninstalling plotly-4.4.1:\n",
            "      Successfully uninstalled plotly-4.4.1\n",
            "Successfully installed plotly-5.4.0 tenacity-8.0.1\n"
          ]
        },
        {
          "output_type": "display_data",
          "data": {
            "application/vnd.colab-display-data+json": {
              "pip_warning": {
                "packages": [
                  "_plotly_utils",
                  "plotly"
                ]
              }
            }
          },
          "metadata": {}
        },
        {
          "output_type": "error",
          "ename": "AttributeError",
          "evalue": "ignored",
          "traceback": [
            "\u001b[0;31m---------------------------------------------------------------------------\u001b[0m",
            "\u001b[0;31mAttributeError\u001b[0m                            Traceback (most recent call last)",
            "\u001b[0;32m<ipython-input-30-f49484f8b08b>\u001b[0m in \u001b[0;36m<module>\u001b[0;34m()\u001b[0m\n\u001b[1;32m     14\u001b[0m \u001b[0;34m\u001b[0m\u001b[0m\n\u001b[1;32m     15\u001b[0m \u001b[0mcolumn\u001b[0m \u001b[0;34m=\u001b[0m \u001b[0;34m[\u001b[0m\u001b[0;34m]\u001b[0m\u001b[0;34m\u001b[0m\u001b[0;34m\u001b[0m\u001b[0m\n\u001b[0;32m---> 16\u001b[0;31m \u001b[0;32mfor\u001b[0m \u001b[0mindex\u001b[0m\u001b[0;34m,\u001b[0m \u001b[0mitem\u001b[0m \u001b[0;32min\u001b[0m \u001b[0mcolumn\u001b[0m\u001b[0;34m.\u001b[0m\u001b[0miteritems\u001b[0m\u001b[0;34m(\u001b[0m\u001b[0;34m)\u001b[0m\u001b[0;34m:\u001b[0m\u001b[0;34m\u001b[0m\u001b[0;34m\u001b[0m\u001b[0m\n\u001b[0m\u001b[1;32m     17\u001b[0m     \u001b[0mcolumn\u001b[0m\u001b[0;34m.\u001b[0m\u001b[0mappend\u001b[0m\u001b[0;34m(\u001b[0m\u001b[0mitem\u001b[0m\u001b[0;34m.\u001b[0m\u001b[0mreplace\u001b[0m\u001b[0;34m(\u001b[0m\u001b[0;34m\"NaN\"\u001b[0m\u001b[0;34m,\u001b[0m\u001b[0;34m\"\"\u001b[0m\u001b[0;34m)\u001b[0m\u001b[0;34m)\u001b[0m\u001b[0;34m\u001b[0m\u001b[0;34m\u001b[0m\u001b[0m\n\u001b[1;32m     18\u001b[0m \u001b[0;34m\u001b[0m\u001b[0m\n",
            "\u001b[0;31mAttributeError\u001b[0m: 'list' object has no attribute 'iteritems'"
          ]
        }
      ]
    },
    {
      "cell_type": "code",
      "source": [
        ""
      ],
      "metadata": {
        "id": "Ih_dC86Olt_H"
      },
      "execution_count": 28,
      "outputs": []
    }
  ]
}