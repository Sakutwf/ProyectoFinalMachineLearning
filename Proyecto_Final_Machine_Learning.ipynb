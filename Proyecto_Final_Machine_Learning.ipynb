{
  "nbformat": 4,
  "nbformat_minor": 0,
  "metadata": {
    "colab": {
      "name": "Proyecto Final - Machine Learning.ipynb",
      "provenance": [],
      "authorship_tag": "ABX9TyNfCGZ9YNocHmoIcCot9LI/",
      "include_colab_link": true
    },
    "kernelspec": {
      "name": "python3",
      "display_name": "Python 3"
    },
    "language_info": {
      "name": "python"
    }
  },
  "cells": [
    {
      "cell_type": "markdown",
      "metadata": {
        "id": "view-in-github",
        "colab_type": "text"
      },
      "source": [
        "<a href=\"https://colab.research.google.com/github/Sakutwf/ProyectoFinalMachineLearning/blob/main/Proyecto_Final_Machine_Learning.ipynb\" target=\"_parent\"><img src=\"https://colab.research.google.com/assets/colab-badge.svg\" alt=\"Open In Colab\"/></a>"
      ]
    },
    {
      "cell_type": "markdown",
      "source": [
        "La contaminación atmosférica es una de las preocupaciones ambientales más importantes en muchos países del mundo, y se ve fuertemente afectada por las condiciones meteorológicas. En este proyecto se generarán pronósticos para la calidad del aire disponibles para la ciudad de Curicó."
      ],
      "metadata": {
        "id": "gJJFtuulSsm6"
      }
    },
    {
      "cell_type": "code",
      "source": [
        "#Importación de librerías\n",
        "\n",
        "import numpy as np\n",
        "import pandas as pd\n",
        "import missingno as msno\n",
        "import matplotlib.pyplot as plt\n",
        "import plotly.express as px\n",
        "import plotly.graph_objects as go\n",
        "from fbprophet import Prophet\n",
        "import holidays\n",
        "from sklearn.metrics import mean_squared_error, mean_absolute_error, mean_absolute_percentage_error\n",
        "from sklearn.preprocessing import MinMaxScaler\n",
        "from keras.preprocessing.sequence import TimeseriesGenerator\n",
        "from keras.models import Sequential\n",
        "from keras.layers import Dense, LSTM\n",
        "\n"
      ],
      "metadata": {
        "id": "ubw94bT7SsT3"
      },
      "execution_count": 3,
      "outputs": []
    },
    {
      "cell_type": "code",
      "source": [
        "#Extracción de la base de datos de calidad del aire de la estación meteorológica ubicada en Curicó.\n",
        "\n",
        "url = \"https://sinca.mma.gob.cl/cgi-bin/APUB-MMA/apub.tsindico2.cgi?outtype=xcl&macro=./RVII/709/Cal/PM25//PM25.horario.horario.ic&from=120707&to=211130&path=/usr/airviro/data/CONAMA/&lang=esp&rsrc=&macropath=\"\n",
        "csv = pd.read_csv(url, error_bad_lines=False, sep=\";\", na_values='?', na_filter=True, engine='python')"
      ],
      "metadata": {
        "id": "c5Gjqo02ZDJW"
      },
      "execution_count": null,
      "outputs": []
    },
    {
      "cell_type": "markdown",
      "source": [
        "Se realizará un preprocesamiento se datos con el fin de permitir un trabajo más claro y fácil. Se detallan las acciones paso a paso:"
      ],
      "metadata": {
        "id": "JlLax1WO1Vu8"
      }
    },
    {
      "cell_type": "code",
      "source": [
        "#De ahora en adelante los datos se llamarán desde la variable df\n",
        "df = csv.copy()"
      ],
      "metadata": {
        "id": "DH7FddLY3zJC"
      },
      "execution_count": null,
      "outputs": []
    },
    {
      "cell_type": "markdown",
      "source": [
        "La primera columna que se tratará es la de Fecha"
      ],
      "metadata": {
        "id": "6-C8vxVF314y"
      }
    },
    {
      "cell_type": "code",
      "source": [
        "#transformando a datos de tipo String\n",
        "df['FECHA (YYMMDD)'] = df['FECHA (YYMMDD)'].astype(str)\n",
        "\n",
        "#La fecha se separará en día, mes y año, para ello, en primer lugar, se extraerá la columna de interés\n",
        "auxDate = df['FECHA (YYMMDD)']\n",
        "\n",
        "#Se extraen los datos de día, mes y año para dar nuevo formato\n",
        "year = auxDate.str[:2]\n",
        "month = auxDate.str[2:4]\n",
        "day = auxDate.str[4:]\n",
        "\n",
        "#Se da nuevo formato\n",
        "df['FECHA (YYMMDD)'] = year+\"/\"+month+\"/\"+day"
      ],
      "metadata": {
        "id": "PpD4JqGZ1pBV"
      },
      "execution_count": null,
      "outputs": []
    },
    {
      "cell_type": "markdown",
      "source": [
        "La siguiente columna a modificar es la de Hora"
      ],
      "metadata": {
        "id": "sql6yaeI4FGq"
      }
    },
    {
      "cell_type": "code",
      "source": [
        "#Así como en la columna anrerior, se transforma a tipo String y se extrae la columna\n",
        "df['HORA (HHMM)'] = df['HORA (HHMM)'].astype(str)\n",
        "auxHour = df['HORA (HHMM)']\n",
        "\n",
        "#Para transformar el formato de la columna de horas será necesario realizar verificaciones en cada celda para la tranformación\n",
        "#Para ello se creará una lista auxiliar que contendra los nuevos valores para luego asignarlos a la columna definitiva\n",
        "auxList = []\n",
        "\n",
        "\n"
      ],
      "metadata": {
        "id": "IjRu36fS4L4g"
      },
      "execution_count": null,
      "outputs": []
    }
  ]
}